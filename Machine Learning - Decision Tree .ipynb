{
 "cells": [
  {
   "cell_type": "code",
   "execution_count": 3,
   "metadata": {},
   "outputs": [],
   "source": [
    "#Importando bibliotecas\n",
    "\n",
    "import pandas as pd\n",
    "import numpy as np\n",
    "from matplotlib import pyplot as plt\n",
    "\n",
    "from sklearn.model_selection import train_test_split\n",
    "from sklearn.preprocessing import LabelEncoder\n",
    "from sklearn.tree import DecisionTreeClassifier\n",
    "from sklearn import tree"
   ]
  },
  {
   "cell_type": "markdown",
   "metadata": {},
   "source": [
    "<h5>Importando o dataframe"
   ]
  },
  {
   "cell_type": "code",
   "execution_count": 14,
   "metadata": {},
   "outputs": [
    {
     "data": {
      "text/html": [
       "<div>\n",
       "<style scoped>\n",
       "    .dataframe tbody tr th:only-of-type {\n",
       "        vertical-align: middle;\n",
       "    }\n",
       "\n",
       "    .dataframe tbody tr th {\n",
       "        vertical-align: top;\n",
       "    }\n",
       "\n",
       "    .dataframe thead th {\n",
       "        text-align: right;\n",
       "    }\n",
       "</style>\n",
       "<table border=\"1\" class=\"dataframe\">\n",
       "  <thead>\n",
       "    <tr style=\"text-align: right;\">\n",
       "      <th></th>\n",
       "      <th>Tempo</th>\n",
       "      <th>Temperatura</th>\n",
       "      <th>Umidade</th>\n",
       "      <th>Vento</th>\n",
       "      <th>Joga</th>\n",
       "    </tr>\n",
       "  </thead>\n",
       "  <tbody>\n",
       "    <tr>\n",
       "      <th>0</th>\n",
       "      <td>Ensolarado</td>\n",
       "      <td>Quente</td>\n",
       "      <td>Alta</td>\n",
       "      <td>Fraco</td>\n",
       "      <td>Nao</td>\n",
       "    </tr>\n",
       "    <tr>\n",
       "      <th>1</th>\n",
       "      <td>Ensolarado</td>\n",
       "      <td>Quente</td>\n",
       "      <td>Alta</td>\n",
       "      <td>Forte</td>\n",
       "      <td>Nao</td>\n",
       "    </tr>\n",
       "    <tr>\n",
       "      <th>2</th>\n",
       "      <td>Nublado</td>\n",
       "      <td>Quente</td>\n",
       "      <td>Alta</td>\n",
       "      <td>Fraco</td>\n",
       "      <td>Sim</td>\n",
       "    </tr>\n",
       "    <tr>\n",
       "      <th>3</th>\n",
       "      <td>Chuvoso</td>\n",
       "      <td>Media</td>\n",
       "      <td>Alta</td>\n",
       "      <td>Fraco</td>\n",
       "      <td>Sim</td>\n",
       "    </tr>\n",
       "    <tr>\n",
       "      <th>4</th>\n",
       "      <td>Chuvoso</td>\n",
       "      <td>Fria</td>\n",
       "      <td>Normal</td>\n",
       "      <td>Fraco</td>\n",
       "      <td>Sim</td>\n",
       "    </tr>\n",
       "    <tr>\n",
       "      <th>5</th>\n",
       "      <td>Chuvoso</td>\n",
       "      <td>Fria</td>\n",
       "      <td>Normal</td>\n",
       "      <td>Forte</td>\n",
       "      <td>Nao</td>\n",
       "    </tr>\n",
       "    <tr>\n",
       "      <th>6</th>\n",
       "      <td>Nublado</td>\n",
       "      <td>Fria</td>\n",
       "      <td>Normal</td>\n",
       "      <td>Forte</td>\n",
       "      <td>Sim</td>\n",
       "    </tr>\n",
       "    <tr>\n",
       "      <th>7</th>\n",
       "      <td>Ensolarado</td>\n",
       "      <td>Media</td>\n",
       "      <td>Alta</td>\n",
       "      <td>Fraco</td>\n",
       "      <td>Nao</td>\n",
       "    </tr>\n",
       "    <tr>\n",
       "      <th>8</th>\n",
       "      <td>Ensolarado</td>\n",
       "      <td>Fria</td>\n",
       "      <td>Normal</td>\n",
       "      <td>Fraco</td>\n",
       "      <td>Sim</td>\n",
       "    </tr>\n",
       "    <tr>\n",
       "      <th>9</th>\n",
       "      <td>Chuvoso</td>\n",
       "      <td>Media</td>\n",
       "      <td>Normal</td>\n",
       "      <td>Fraco</td>\n",
       "      <td>Sim</td>\n",
       "    </tr>\n",
       "    <tr>\n",
       "      <th>10</th>\n",
       "      <td>Ensolarado</td>\n",
       "      <td>Media</td>\n",
       "      <td>Normal</td>\n",
       "      <td>Forte</td>\n",
       "      <td>Sim</td>\n",
       "    </tr>\n",
       "    <tr>\n",
       "      <th>11</th>\n",
       "      <td>Nublado</td>\n",
       "      <td>Media</td>\n",
       "      <td>Alta</td>\n",
       "      <td>Forte</td>\n",
       "      <td>Sim</td>\n",
       "    </tr>\n",
       "    <tr>\n",
       "      <th>12</th>\n",
       "      <td>Nublado</td>\n",
       "      <td>Quente</td>\n",
       "      <td>Normal</td>\n",
       "      <td>Fraco</td>\n",
       "      <td>Sim</td>\n",
       "    </tr>\n",
       "    <tr>\n",
       "      <th>13</th>\n",
       "      <td>Chuvoso</td>\n",
       "      <td>Media</td>\n",
       "      <td>Alta</td>\n",
       "      <td>Forte</td>\n",
       "      <td>Nao</td>\n",
       "    </tr>\n",
       "  </tbody>\n",
       "</table>\n",
       "</div>"
      ],
      "text/plain": [
       "         Tempo Temperatura Umidade  Vento Joga\n",
       "0   Ensolarado      Quente    Alta  Fraco  Nao\n",
       "1   Ensolarado      Quente    Alta  Forte  Nao\n",
       "2      Nublado      Quente    Alta  Fraco  Sim\n",
       "3      Chuvoso       Media    Alta  Fraco  Sim\n",
       "4      Chuvoso        Fria  Normal  Fraco  Sim\n",
       "5      Chuvoso        Fria  Normal  Forte  Nao\n",
       "6      Nublado        Fria  Normal  Forte  Sim\n",
       "7   Ensolarado       Media    Alta  Fraco  Nao\n",
       "8   Ensolarado        Fria  Normal  Fraco  Sim\n",
       "9      Chuvoso       Media  Normal  Fraco  Sim\n",
       "10  Ensolarado       Media  Normal  Forte  Sim\n",
       "11     Nublado       Media    Alta  Forte  Sim\n",
       "12     Nublado      Quente  Normal  Fraco  Sim\n",
       "13     Chuvoso       Media    Alta  Forte  Nao"
      ]
     },
     "execution_count": 14,
     "metadata": {},
     "output_type": "execute_result"
    }
   ],
   "source": [
    "dados = pd.read_csv('E:/Mestrado Matérias/2 MÓDULO/Machine Learning/LISTA 3/Q2.csv')\n",
    "\n",
    "#Excluímos a coluna Dia pois não nos dá informação útil.\n",
    "dados = dados.drop('Dia',axis=1)\n",
    "\n",
    "dados"
   ]
  },
  {
   "cell_type": "markdown",
   "metadata": {},
   "source": [
    "<h5>Separando os atributos da classe"
   ]
  },
  {
   "cell_type": "code",
   "execution_count": 15,
   "metadata": {
    "scrolled": true
   },
   "outputs": [
    {
     "data": {
      "text/plain": [
       "array([['Ensolarado', 'Quente', 'Alta', 'Fraco'],\n",
       "       ['Ensolarado', 'Quente', 'Alta', 'Forte'],\n",
       "       ['Nublado', 'Quente', 'Alta', 'Fraco'],\n",
       "       ['Chuvoso', 'Media', 'Alta', 'Fraco'],\n",
       "       ['Chuvoso', 'Fria', 'Normal', 'Fraco'],\n",
       "       ['Chuvoso', 'Fria', 'Normal', 'Forte'],\n",
       "       ['Nublado', 'Fria', 'Normal', 'Forte'],\n",
       "       ['Ensolarado', 'Media', 'Alta', 'Fraco'],\n",
       "       ['Ensolarado', 'Fria', 'Normal', 'Fraco'],\n",
       "       ['Chuvoso', 'Media', 'Normal', 'Fraco'],\n",
       "       ['Ensolarado', 'Media', 'Normal', 'Forte'],\n",
       "       ['Nublado', 'Media', 'Alta', 'Forte'],\n",
       "       ['Nublado', 'Quente', 'Normal', 'Fraco'],\n",
       "       ['Chuvoso', 'Media', 'Alta', 'Forte']], dtype=object)"
      ]
     },
     "execution_count": 15,
     "metadata": {},
     "output_type": "execute_result"
    }
   ],
   "source": [
    "X = dados.iloc[:,0:4].values\n",
    "\n",
    "X"
   ]
  },
  {
   "cell_type": "markdown",
   "metadata": {},
   "source": [
    "<h5> Separando os valores da classe"
   ]
  },
  {
   "cell_type": "code",
   "execution_count": 16,
   "metadata": {},
   "outputs": [
    {
     "data": {
      "text/plain": [
       "array(['Nao', 'Nao', 'Sim', 'Sim', 'Sim', 'Nao', 'Sim', 'Nao', 'Sim',\n",
       "       'Sim', 'Sim', 'Sim', 'Sim', 'Nao'], dtype=object)"
      ]
     },
     "execution_count": 16,
     "metadata": {},
     "output_type": "execute_result"
    }
   ],
   "source": [
    "y = dados.iloc[:,-1].values\n",
    "\n",
    "y"
   ]
  },
  {
   "cell_type": "markdown",
   "metadata": {},
   "source": [
    "<h5>Transformando os dados categóricos em numéricos\n",
    "    "
   ]
  },
  {
   "cell_type": "code",
   "execution_count": 17,
   "metadata": {},
   "outputs": [],
   "source": [
    "label_encoder_tempo = LabelEncoder()\n",
    "label_encoder_temperatura = LabelEncoder()\n",
    "label_encoder_umidade = LabelEncoder()\n",
    "label_encoder_vento = LabelEncoder()"
   ]
  },
  {
   "cell_type": "code",
   "execution_count": 18,
   "metadata": {
    "scrolled": true
   },
   "outputs": [
    {
     "data": {
      "text/plain": [
       "array([[1, 2, 0, 1],\n",
       "       [1, 2, 0, 0],\n",
       "       [2, 2, 0, 1],\n",
       "       [0, 1, 0, 1],\n",
       "       [0, 0, 1, 1],\n",
       "       [0, 0, 1, 0],\n",
       "       [2, 0, 1, 0],\n",
       "       [1, 1, 0, 1],\n",
       "       [1, 0, 1, 1],\n",
       "       [0, 1, 1, 1],\n",
       "       [1, 1, 1, 0],\n",
       "       [2, 1, 0, 0],\n",
       "       [2, 2, 1, 1],\n",
       "       [0, 1, 0, 0]], dtype=object)"
      ]
     },
     "execution_count": 18,
     "metadata": {},
     "output_type": "execute_result"
    }
   ],
   "source": [
    "X[:,0] = label_encoder_tempo.fit_transform(X[:,0])\n",
    "X[:,1] = label_encoder_temperatura.fit_transform(X[:,1])\n",
    "X[:,2] = label_encoder_umidade.fit_transform(X[:,2])\n",
    "X[:,3] = label_encoder_vento.fit_transform(X[:,3])\n",
    "\n",
    "X"
   ]
  },
  {
   "cell_type": "markdown",
   "metadata": {},
   "source": [
    "<h5> Legenda"
   ]
  },
  {
   "cell_type": "code",
   "execution_count": 19,
   "metadata": {},
   "outputs": [],
   "source": [
    "#Ensolarado = 1, Nublado = 2 , Chuvoso = 0\n",
    "#Quente = 2, Média = 1, Fria = 0\n",
    "#Alta = 0, Normal = 1\n",
    "#Fraco = 1, Forte = 0"
   ]
  },
  {
   "cell_type": "markdown",
   "metadata": {},
   "source": [
    "<h5>Dividindo e treinando"
   ]
  },
  {
   "cell_type": "code",
   "execution_count": 20,
   "metadata": {},
   "outputs": [],
   "source": [
    "X_train, X_test, y_train, y_test = train_test_split(X, y, test_size = 0.3, random_state=0)"
   ]
  },
  {
   "cell_type": "code",
   "execution_count": 21,
   "metadata": {},
   "outputs": [
    {
     "data": {
      "text/plain": [
       "DecisionTreeClassifier(criterion='entropy')"
      ]
     },
     "execution_count": 21,
     "metadata": {},
     "output_type": "execute_result"
    }
   ],
   "source": [
    "arvore = DecisionTreeClassifier(criterion='entropy')\n",
    "\n",
    "arvore.fit(X,y)"
   ]
  },
  {
   "cell_type": "code",
   "execution_count": 22,
   "metadata": {},
   "outputs": [
    {
     "data": {
      "text/plain": [
       "array([0.51455805, 0.        , 0.21123658, 0.27420537])"
      ]
     },
     "execution_count": 22,
     "metadata": {},
     "output_type": "execute_result"
    }
   ],
   "source": [
    "arvore.feature_importances_"
   ]
  },
  {
   "cell_type": "code",
   "execution_count": 23,
   "metadata": {},
   "outputs": [
    {
     "name": "stdout",
     "output_type": "stream",
     "text": [
      "Tempo:0.5145580473505383\n",
      "Temperatura:0.0\n",
      "Umidade:0.21123657918595443\n",
      "Vento:0.2742053734635072\n"
     ]
    }
   ],
   "source": [
    "for feature,importancia in zip(dados.columns,arvore.feature_importances_):\n",
    "    print('{}:{}'.format(feature,importancia))"
   ]
  },
  {
   "cell_type": "code",
   "execution_count": 24,
   "metadata": {
    "scrolled": true
   },
   "outputs": [
    {
     "data": {
      "image/png": "[encoded data removed]",
      "text/plain": [
       "<Figure size 576x576 with 1 Axes>"
      ]
     },
     "metadata": {
      "needs_background": "light"
     },
     "output_type": "display_data"
    }
   ],
   "source": [
    "from sklearn import tree\n",
    "previsores = ['Tempo','Temperatura','Umidade','Vento']\n",
    "figura, eixos = plt.subplots(nrows=1, ncols=1, figsize=(8,8))\n",
    "tree.plot_tree(arvore,feature_names=previsores, class_names = arvore.classes_, filled=True);"
   ]
  },
  {
   "cell_type": "markdown",
   "metadata": {},
   "source": [
    "<H5>Renderizando a árvore de decisão\n",
    "    "
   ]
  },
  {
   "cell_type": "code",
   "execution_count": 25,
   "metadata": {},
   "outputs": [
    {
     "data": {
      "image/svg+xml": [
       "<?xml version=\"1.0\" encoding=\"UTF-8\" standalone=\"no\"?>\r\n",
       "<!DOCTYPE svg PUBLIC \"-//W3C//DTD SVG 1.1//EN\"\r\n",
       " \"http://www.w3.org/Graphics/SVG/1.1/DTD/svg11.dtd\">\r\n",
       "<!-- Generated by graphviz version 2.48.0 (20210717.1556)\r\n",
       " -->\r\n",
       "<!-- Title: Tree Pages: 1 -->\r\n",
       "<svg width=\"633pt\" height=\"627pt\"\r\n",
       " viewBox=\"0.00 0.00 632.50 627.00\" xmlns=\"http://www.w3.org/2000/svg\" xmlns:xlink=\"http://www.w3.org/1999/xlink\">\r\n",
       "<g id=\"graph0\" class=\"graph\" transform=\"scale(1 1) rotate(0) translate(4 623)\">\r\n",
       "<title>Tree</title>\r\n",
       "<polygon fill=\"white\" stroke=\"transparent\" points=\"-4,4 -4,-623 628.5,-623 628.5,4 -4,4\"/>\r\n",
       "<!-- 0 -->\r\n",
       "<g id=\"node1\" class=\"node\">\r\n",
       "<title>0</title>\r\n",
       "<path fill=\"#a7d3f3\" stroke=\"black\" d=\"M479.5,-619C479.5,-619 349.5,-619 349.5,-619 343.5,-619 337.5,-613 337.5,-607 337.5,-607 337.5,-533 337.5,-533 337.5,-527 343.5,-521 349.5,-521 349.5,-521 479.5,-521 479.5,-521 485.5,-521 491.5,-527 491.5,-533 491.5,-533 491.5,-607 491.5,-607 491.5,-613 485.5,-619 479.5,-619\"/>\r\n",
       "<text text-anchor=\"start\" x=\"388\" y=\"-603.8\" font-family=\"Helvetica,sans-Serif\" font-size=\"14.00\">node #0</text>\r\n",
       "<text text-anchor=\"start\" x=\"373.5\" y=\"-588.8\" font-family=\"Helvetica,sans-Serif\" font-size=\"14.00\">Tempo ≤ 1.5</text>\r\n",
       "<text text-anchor=\"start\" x=\"368.5\" y=\"-573.8\" font-family=\"Helvetica,sans-Serif\" font-size=\"14.00\">entropy = 0.94</text>\r\n",
       "<text text-anchor=\"start\" x=\"354.5\" y=\"-558.8\" font-family=\"Helvetica,sans-Serif\" font-size=\"14.00\">samples = 100.0%</text>\r\n",
       "<text text-anchor=\"start\" x=\"345.5\" y=\"-543.8\" font-family=\"Helvetica,sans-Serif\" font-size=\"14.00\">value = [0.357, 0.643]</text>\r\n",
       "<text text-anchor=\"start\" x=\"377.5\" y=\"-528.8\" font-family=\"Helvetica,sans-Serif\" font-size=\"14.00\">class = Sim</text>\r\n",
       "</g>\r\n",
       "<!-- 1 -->\r\n",
       "<g id=\"node2\" class=\"node\">\r\n",
       "<title>1</title>\r\n",
       "<path fill=\"#ffffff\" stroke=\"black\" d=\"M393.5,-485C393.5,-485 289.5,-485 289.5,-485 283.5,-485 277.5,-479 277.5,-473 277.5,-473 277.5,-399 277.5,-399 277.5,-393 283.5,-387 289.5,-387 289.5,-387 393.5,-387 393.5,-387 399.5,-387 405.5,-393 405.5,-399 405.5,-399 405.5,-473 405.5,-473 405.5,-479 399.5,-485 393.5,-485\"/>\r\n",
       "<text text-anchor=\"start\" x=\"315\" y=\"-469.8\" font-family=\"Helvetica,sans-Serif\" font-size=\"14.00\">node #1</text>\r\n",
       "<text text-anchor=\"start\" x=\"295\" y=\"-454.8\" font-family=\"Helvetica,sans-Serif\" font-size=\"14.00\">Umidade ≤ 0.5</text>\r\n",
       "<text text-anchor=\"start\" x=\"299.5\" y=\"-439.8\" font-family=\"Helvetica,sans-Serif\" font-size=\"14.00\">entropy = 1.0</text>\r\n",
       "<text text-anchor=\"start\" x=\"285.5\" y=\"-424.8\" font-family=\"Helvetica,sans-Serif\" font-size=\"14.00\">samples = 71.4%</text>\r\n",
       "<text text-anchor=\"start\" x=\"289\" y=\"-409.8\" font-family=\"Helvetica,sans-Serif\" font-size=\"14.00\">value = [0.5, 0.5]</text>\r\n",
       "<text text-anchor=\"start\" x=\"304\" y=\"-394.8\" font-family=\"Helvetica,sans-Serif\" font-size=\"14.00\">class = Nao</text>\r\n",
       "</g>\r\n",
       "<!-- 0&#45;&gt;1 -->\r\n",
       "<g id=\"edge1\" class=\"edge\">\r\n",
       "<title>0&#45;&gt;1</title>\r\n",
       "<path fill=\"none\" stroke=\"black\" d=\"M387.94,-520.97C383.11,-512.24 378.03,-503.05 373.07,-494.08\"/>\r\n",
       "<polygon fill=\"black\" stroke=\"black\" points=\"376.07,-492.27 368.16,-485.21 369.94,-495.66 376.07,-492.27\"/>\r\n",
       "<text text-anchor=\"middle\" x=\"361.25\" y=\"-505.54\" font-family=\"Helvetica,sans-Serif\" font-size=\"14.00\">True</text>\r\n",
       "</g>\r\n",
       "<!-- 12 -->\r\n",
       "<g id=\"node13\" class=\"node\">\r\n",
       "<title>12</title>\r\n",
       "<path fill=\"#399de5\" stroke=\"black\" d=\"M539.5,-477.5C539.5,-477.5 435.5,-477.5 435.5,-477.5 429.5,-477.5 423.5,-471.5 423.5,-465.5 423.5,-465.5 423.5,-406.5 423.5,-406.5 423.5,-400.5 429.5,-394.5 435.5,-394.5 435.5,-394.5 539.5,-394.5 539.5,-394.5 545.5,-394.5 551.5,-400.5 551.5,-406.5 551.5,-406.5 551.5,-465.5 551.5,-465.5 551.5,-471.5 545.5,-477.5 539.5,-477.5\"/>\r\n",
       "<text text-anchor=\"start\" x=\"457\" y=\"-462.3\" font-family=\"Helvetica,sans-Serif\" font-size=\"14.00\">node #12</text>\r\n",
       "<text text-anchor=\"start\" x=\"445.5\" y=\"-447.3\" font-family=\"Helvetica,sans-Serif\" font-size=\"14.00\">entropy = 0.0</text>\r\n",
       "<text text-anchor=\"start\" x=\"431.5\" y=\"-432.3\" font-family=\"Helvetica,sans-Serif\" font-size=\"14.00\">samples = 28.6%</text>\r\n",
       "<text text-anchor=\"start\" x=\"435\" y=\"-417.3\" font-family=\"Helvetica,sans-Serif\" font-size=\"14.00\">value = [0.0, 1.0]</text>\r\n",
       "<text text-anchor=\"start\" x=\"450.5\" y=\"-402.3\" font-family=\"Helvetica,sans-Serif\" font-size=\"14.00\">class = Sim</text>\r\n",
       "</g>\r\n",
       "<!-- 0&#45;&gt;12 -->\r\n",
       "<g id=\"edge12\" class=\"edge\">\r\n",
       "<title>0&#45;&gt;12</title>\r\n",
       "<path fill=\"none\" stroke=\"black\" d=\"M441.06,-520.97C447.24,-509.8 453.82,-497.89 460.04,-486.66\"/>\r\n",
       "<polygon fill=\"black\" stroke=\"black\" points=\"463.15,-488.26 464.93,-477.82 457.02,-484.87 463.15,-488.26\"/>\r\n",
       "<text text-anchor=\"middle\" x=\"471.84\" y=\"-498.14\" font-family=\"Helvetica,sans-Serif\" font-size=\"14.00\">False</text>\r\n",
       "</g>\r\n",
       "<!-- 2 -->\r\n",
       "<g id=\"node3\" class=\"node\">\r\n",
       "<title>2</title>\r\n",
       "<path fill=\"#eca06a\" stroke=\"black\" d=\"M320.5,-351C320.5,-351 216.5,-351 216.5,-351 210.5,-351 204.5,-345 204.5,-339 204.5,-339 204.5,-265 204.5,-265 204.5,-259 210.5,-253 216.5,-253 216.5,-253 320.5,-253 320.5,-253 326.5,-253 332.5,-259 332.5,-265 332.5,-265 332.5,-339 332.5,-339 332.5,-345 326.5,-351 320.5,-351\"/>\r\n",
       "<text text-anchor=\"start\" x=\"242\" y=\"-335.8\" font-family=\"Helvetica,sans-Serif\" font-size=\"14.00\">node #2</text>\r\n",
       "<text text-anchor=\"start\" x=\"227.5\" y=\"-320.8\" font-family=\"Helvetica,sans-Serif\" font-size=\"14.00\">Tempo ≤ 0.5</text>\r\n",
       "<text text-anchor=\"start\" x=\"218.5\" y=\"-305.8\" font-family=\"Helvetica,sans-Serif\" font-size=\"14.00\">entropy = 0.722</text>\r\n",
       "<text text-anchor=\"start\" x=\"212.5\" y=\"-290.8\" font-family=\"Helvetica,sans-Serif\" font-size=\"14.00\">samples = 35.7%</text>\r\n",
       "<text text-anchor=\"start\" x=\"216\" y=\"-275.8\" font-family=\"Helvetica,sans-Serif\" font-size=\"14.00\">value = [0.8, 0.2]</text>\r\n",
       "<text text-anchor=\"start\" x=\"231\" y=\"-260.8\" font-family=\"Helvetica,sans-Serif\" font-size=\"14.00\">class = Nao</text>\r\n",
       "</g>\r\n",
       "<!-- 1&#45;&gt;2 -->\r\n",
       "<g id=\"edge2\" class=\"edge\">\r\n",
       "<title>1&#45;&gt;2</title>\r\n",
       "<path fill=\"none\" stroke=\"black\" d=\"M314.94,-386.97C310.11,-378.24 305.03,-369.05 300.07,-360.08\"/>\r\n",
       "<polygon fill=\"black\" stroke=\"black\" points=\"303.07,-358.27 295.16,-351.21 296.94,-361.66 303.07,-358.27\"/>\r\n",
       "</g>\r\n",
       "<!-- 7 -->\r\n",
       "<g id=\"node8\" class=\"node\">\r\n",
       "<title>7</title>\r\n",
       "<path fill=\"#6ab6ec\" stroke=\"black\" d=\"M466.5,-351C466.5,-351 362.5,-351 362.5,-351 356.5,-351 350.5,-345 350.5,-339 350.5,-339 350.5,-265 350.5,-265 350.5,-259 356.5,-253 362.5,-253 362.5,-253 466.5,-253 466.5,-253 472.5,-253 478.5,-259 478.5,-265 478.5,-265 478.5,-339 478.5,-339 478.5,-345 472.5,-351 466.5,-351\"/>\r\n",
       "<text text-anchor=\"start\" x=\"388\" y=\"-335.8\" font-family=\"Helvetica,sans-Serif\" font-size=\"14.00\">node #7</text>\r\n",
       "<text text-anchor=\"start\" x=\"378\" y=\"-320.8\" font-family=\"Helvetica,sans-Serif\" font-size=\"14.00\">Vento ≤ 0.5</text>\r\n",
       "<text text-anchor=\"start\" x=\"364.5\" y=\"-305.8\" font-family=\"Helvetica,sans-Serif\" font-size=\"14.00\">entropy = 0.722</text>\r\n",
       "<text text-anchor=\"start\" x=\"358.5\" y=\"-290.8\" font-family=\"Helvetica,sans-Serif\" font-size=\"14.00\">samples = 35.7%</text>\r\n",
       "<text text-anchor=\"start\" x=\"362\" y=\"-275.8\" font-family=\"Helvetica,sans-Serif\" font-size=\"14.00\">value = [0.2, 0.8]</text>\r\n",
       "<text text-anchor=\"start\" x=\"377.5\" y=\"-260.8\" font-family=\"Helvetica,sans-Serif\" font-size=\"14.00\">class = Sim</text>\r\n",
       "</g>\r\n",
       "<!-- 1&#45;&gt;7 -->\r\n",
       "<g id=\"edge7\" class=\"edge\">\r\n",
       "<title>1&#45;&gt;7</title>\r\n",
       "<path fill=\"none\" stroke=\"black\" d=\"M368.06,-386.97C372.89,-378.24 377.97,-369.05 382.93,-360.08\"/>\r\n",
       "<polygon fill=\"black\" stroke=\"black\" points=\"386.06,-361.66 387.84,-351.21 379.93,-358.27 386.06,-361.66\"/>\r\n",
       "</g>\r\n",
       "<!-- 3 -->\r\n",
       "<g id=\"node4\" class=\"node\">\r\n",
       "<title>3</title>\r\n",
       "<path fill=\"#ffffff\" stroke=\"black\" d=\"M174.5,-217C174.5,-217 70.5,-217 70.5,-217 64.5,-217 58.5,-211 58.5,-205 58.5,-205 58.5,-131 58.5,-131 58.5,-125 64.5,-119 70.5,-119 70.5,-119 174.5,-119 174.5,-119 180.5,-119 186.5,-125 186.5,-131 186.5,-131 186.5,-205 186.5,-205 186.5,-211 180.5,-217 174.5,-217\"/>\r\n",
       "<text text-anchor=\"start\" x=\"96\" y=\"-201.8\" font-family=\"Helvetica,sans-Serif\" font-size=\"14.00\">node #3</text>\r\n",
       "<text text-anchor=\"start\" x=\"86\" y=\"-186.8\" font-family=\"Helvetica,sans-Serif\" font-size=\"14.00\">Vento ≤ 0.5</text>\r\n",
       "<text text-anchor=\"start\" x=\"80.5\" y=\"-171.8\" font-family=\"Helvetica,sans-Serif\" font-size=\"14.00\">entropy = 1.0</text>\r\n",
       "<text text-anchor=\"start\" x=\"66.5\" y=\"-156.8\" font-family=\"Helvetica,sans-Serif\" font-size=\"14.00\">samples = 14.3%</text>\r\n",
       "<text text-anchor=\"start\" x=\"70\" y=\"-141.8\" font-family=\"Helvetica,sans-Serif\" font-size=\"14.00\">value = [0.5, 0.5]</text>\r\n",
       "<text text-anchor=\"start\" x=\"85\" y=\"-126.8\" font-family=\"Helvetica,sans-Serif\" font-size=\"14.00\">class = Nao</text>\r\n",
       "</g>\r\n",
       "<!-- 2&#45;&gt;3 -->\r\n",
       "<g id=\"edge3\" class=\"edge\">\r\n",
       "<title>2&#45;&gt;3</title>\r\n",
       "<path fill=\"none\" stroke=\"black\" d=\"M215.38,-252.97C205.01,-243.6 194.07,-233.7 183.47,-224.12\"/>\r\n",
       "<polygon fill=\"black\" stroke=\"black\" points=\"185.59,-221.32 175.83,-217.21 180.9,-226.52 185.59,-221.32\"/>\r\n",
       "</g>\r\n",
       "<!-- 6 -->\r\n",
       "<g id=\"node7\" class=\"node\">\r\n",
       "<title>6</title>\r\n",
       "<path fill=\"#e58139\" stroke=\"black\" d=\"M320.5,-209.5C320.5,-209.5 216.5,-209.5 216.5,-209.5 210.5,-209.5 204.5,-203.5 204.5,-197.5 204.5,-197.5 204.5,-138.5 204.5,-138.5 204.5,-132.5 210.5,-126.5 216.5,-126.5 216.5,-126.5 320.5,-126.5 320.5,-126.5 326.5,-126.5 332.5,-132.5 332.5,-138.5 332.5,-138.5 332.5,-197.5 332.5,-197.5 332.5,-203.5 326.5,-209.5 320.5,-209.5\"/>\r\n",
       "<text text-anchor=\"start\" x=\"242\" y=\"-194.3\" font-family=\"Helvetica,sans-Serif\" font-size=\"14.00\">node #6</text>\r\n",
       "<text text-anchor=\"start\" x=\"226.5\" y=\"-179.3\" font-family=\"Helvetica,sans-Serif\" font-size=\"14.00\">entropy = 0.0</text>\r\n",
       "<text text-anchor=\"start\" x=\"212.5\" y=\"-164.3\" font-family=\"Helvetica,sans-Serif\" font-size=\"14.00\">samples = 21.4%</text>\r\n",
       "<text text-anchor=\"start\" x=\"216\" y=\"-149.3\" font-family=\"Helvetica,sans-Serif\" font-size=\"14.00\">value = [1.0, 0.0]</text>\r\n",
       "<text text-anchor=\"start\" x=\"231\" y=\"-134.3\" font-family=\"Helvetica,sans-Serif\" font-size=\"14.00\">class = Nao</text>\r\n",
       "</g>\r\n",
       "<!-- 2&#45;&gt;6 -->\r\n",
       "<g id=\"edge6\" class=\"edge\">\r\n",
       "<title>2&#45;&gt;6</title>\r\n",
       "<path fill=\"none\" stroke=\"black\" d=\"M268.5,-252.97C268.5,-242.25 268.5,-230.84 268.5,-219.99\"/>\r\n",
       "<polygon fill=\"black\" stroke=\"black\" points=\"272,-219.82 268.5,-209.82 265,-219.82 272,-219.82\"/>\r\n",
       "</g>\r\n",
       "<!-- 4 -->\r\n",
       "<g id=\"node5\" class=\"node\">\r\n",
       "<title>4</title>\r\n",
       "<path fill=\"#e58139\" stroke=\"black\" d=\"M109,-83C109,-83 12,-83 12,-83 6,-83 0,-77 0,-71 0,-71 0,-12 0,-12 0,-6 6,0 12,0 12,0 109,0 109,0 115,0 121,-6 121,-12 121,-12 121,-71 121,-71 121,-77 115,-83 109,-83\"/>\r\n",
       "<text text-anchor=\"start\" x=\"34\" y=\"-67.8\" font-family=\"Helvetica,sans-Serif\" font-size=\"14.00\">node #4</text>\r\n",
       "<text text-anchor=\"start\" x=\"18.5\" y=\"-52.8\" font-family=\"Helvetica,sans-Serif\" font-size=\"14.00\">entropy = 0.0</text>\r\n",
       "<text text-anchor=\"start\" x=\"9\" y=\"-37.8\" font-family=\"Helvetica,sans-Serif\" font-size=\"14.00\">samples = 7.1%</text>\r\n",
       "<text text-anchor=\"start\" x=\"8\" y=\"-22.8\" font-family=\"Helvetica,sans-Serif\" font-size=\"14.00\">value = [1.0, 0.0]</text>\r\n",
       "<text text-anchor=\"start\" x=\"23\" y=\"-7.8\" font-family=\"Helvetica,sans-Serif\" font-size=\"14.00\">class = Nao</text>\r\n",
       "</g>\r\n",
       "<!-- 3&#45;&gt;4 -->\r\n",
       "<g id=\"edge4\" class=\"edge\">\r\n",
       "<title>3&#45;&gt;4</title>\r\n",
       "<path fill=\"none\" stroke=\"black\" d=\"M98.53,-118.87C94.18,-110.13 89.63,-101 85.26,-92.22\"/>\r\n",
       "<polygon fill=\"black\" stroke=\"black\" points=\"88.37,-90.62 80.78,-83.23 82.11,-93.74 88.37,-90.62\"/>\r\n",
       "</g>\r\n",
       "<!-- 5 -->\r\n",
       "<g id=\"node6\" class=\"node\">\r\n",
       "<title>5</title>\r\n",
       "<path fill=\"#399de5\" stroke=\"black\" d=\"M248,-83C248,-83 151,-83 151,-83 145,-83 139,-77 139,-71 139,-71 139,-12 139,-12 139,-6 145,0 151,0 151,0 248,0 248,0 254,0 260,-6 260,-12 260,-12 260,-71 260,-71 260,-77 254,-83 248,-83\"/>\r\n",
       "<text text-anchor=\"start\" x=\"173\" y=\"-67.8\" font-family=\"Helvetica,sans-Serif\" font-size=\"14.00\">node #5</text>\r\n",
       "<text text-anchor=\"start\" x=\"157.5\" y=\"-52.8\" font-family=\"Helvetica,sans-Serif\" font-size=\"14.00\">entropy = 0.0</text>\r\n",
       "<text text-anchor=\"start\" x=\"148\" y=\"-37.8\" font-family=\"Helvetica,sans-Serif\" font-size=\"14.00\">samples = 7.1%</text>\r\n",
       "<text text-anchor=\"start\" x=\"147\" y=\"-22.8\" font-family=\"Helvetica,sans-Serif\" font-size=\"14.00\">value = [0.0, 1.0]</text>\r\n",
       "<text text-anchor=\"start\" x=\"162.5\" y=\"-7.8\" font-family=\"Helvetica,sans-Serif\" font-size=\"14.00\">class = Sim</text>\r\n",
       "</g>\r\n",
       "<!-- 3&#45;&gt;5 -->\r\n",
       "<g id=\"edge5\" class=\"edge\">\r\n",
       "<title>3&#45;&gt;5</title>\r\n",
       "<path fill=\"none\" stroke=\"black\" d=\"M152.27,-118.87C157.73,-110.04 163.44,-100.81 168.92,-91.95\"/>\r\n",
       "<polygon fill=\"black\" stroke=\"black\" points=\"172.03,-93.58 174.31,-83.23 166.07,-89.89 172.03,-93.58\"/>\r\n",
       "</g>\r\n",
       "<!-- 8 -->\r\n",
       "<g id=\"node9\" class=\"node\">\r\n",
       "<title>8</title>\r\n",
       "<path fill=\"#ffffff\" stroke=\"black\" d=\"M466.5,-217C466.5,-217 362.5,-217 362.5,-217 356.5,-217 350.5,-211 350.5,-205 350.5,-205 350.5,-131 350.5,-131 350.5,-125 356.5,-119 362.5,-119 362.5,-119 466.5,-119 466.5,-119 472.5,-119 478.5,-125 478.5,-131 478.5,-131 478.5,-205 478.5,-205 478.5,-211 472.5,-217 466.5,-217\"/>\r\n",
       "<text text-anchor=\"start\" x=\"388\" y=\"-201.8\" font-family=\"Helvetica,sans-Serif\" font-size=\"14.00\">node #8</text>\r\n",
       "<text text-anchor=\"start\" x=\"373.5\" y=\"-186.8\" font-family=\"Helvetica,sans-Serif\" font-size=\"14.00\">Tempo ≤ 0.5</text>\r\n",
       "<text text-anchor=\"start\" x=\"372.5\" y=\"-171.8\" font-family=\"Helvetica,sans-Serif\" font-size=\"14.00\">entropy = 1.0</text>\r\n",
       "<text text-anchor=\"start\" x=\"358.5\" y=\"-156.8\" font-family=\"Helvetica,sans-Serif\" font-size=\"14.00\">samples = 14.3%</text>\r\n",
       "<text text-anchor=\"start\" x=\"362\" y=\"-141.8\" font-family=\"Helvetica,sans-Serif\" font-size=\"14.00\">value = [0.5, 0.5]</text>\r\n",
       "<text text-anchor=\"start\" x=\"377\" y=\"-126.8\" font-family=\"Helvetica,sans-Serif\" font-size=\"14.00\">class = Nao</text>\r\n",
       "</g>\r\n",
       "<!-- 7&#45;&gt;8 -->\r\n",
       "<g id=\"edge8\" class=\"edge\">\r\n",
       "<title>7&#45;&gt;8</title>\r\n",
       "<path fill=\"none\" stroke=\"black\" d=\"M414.5,-252.97C414.5,-244.69 414.5,-236 414.5,-227.48\"/>\r\n",
       "<polygon fill=\"black\" stroke=\"black\" points=\"418,-227.21 414.5,-217.21 411,-227.21 418,-227.21\"/>\r\n",
       "</g>\r\n",
       "<!-- 11 -->\r\n",
       "<g id=\"node12\" class=\"node\">\r\n",
       "<title>11</title>\r\n",
       "<path fill=\"#399de5\" stroke=\"black\" d=\"M612.5,-209.5C612.5,-209.5 508.5,-209.5 508.5,-209.5 502.5,-209.5 496.5,-203.5 496.5,-197.5 496.5,-197.5 496.5,-138.5 496.5,-138.5 496.5,-132.5 502.5,-126.5 508.5,-126.5 508.5,-126.5 612.5,-126.5 612.5,-126.5 618.5,-126.5 624.5,-132.5 624.5,-138.5 624.5,-138.5 624.5,-197.5 624.5,-197.5 624.5,-203.5 618.5,-209.5 612.5,-209.5\"/>\r\n",
       "<text text-anchor=\"start\" x=\"530\" y=\"-194.3\" font-family=\"Helvetica,sans-Serif\" font-size=\"14.00\">node #11</text>\r\n",
       "<text text-anchor=\"start\" x=\"518.5\" y=\"-179.3\" font-family=\"Helvetica,sans-Serif\" font-size=\"14.00\">entropy = 0.0</text>\r\n",
       "<text text-anchor=\"start\" x=\"504.5\" y=\"-164.3\" font-family=\"Helvetica,sans-Serif\" font-size=\"14.00\">samples = 21.4%</text>\r\n",
       "<text text-anchor=\"start\" x=\"508\" y=\"-149.3\" font-family=\"Helvetica,sans-Serif\" font-size=\"14.00\">value = [0.0, 1.0]</text>\r\n",
       "<text text-anchor=\"start\" x=\"523.5\" y=\"-134.3\" font-family=\"Helvetica,sans-Serif\" font-size=\"14.00\">class = Sim</text>\r\n",
       "</g>\r\n",
       "<!-- 7&#45;&gt;11 -->\r\n",
       "<g id=\"edge11\" class=\"edge\">\r\n",
       "<title>7&#45;&gt;11</title>\r\n",
       "<path fill=\"none\" stroke=\"black\" d=\"M467.62,-252.97C480.71,-241.14 494.72,-228.48 507.78,-216.66\"/>\r\n",
       "<polygon fill=\"black\" stroke=\"black\" points=\"510.28,-219.12 515.35,-209.82 505.59,-213.93 510.28,-219.12\"/>\r\n",
       "</g>\r\n",
       "<!-- 9 -->\r\n",
       "<g id=\"node10\" class=\"node\">\r\n",
       "<title>9</title>\r\n",
       "<path fill=\"#e58139\" stroke=\"black\" d=\"M425,-83C425,-83 328,-83 328,-83 322,-83 316,-77 316,-71 316,-71 316,-12 316,-12 316,-6 322,0 328,0 328,0 425,0 425,0 431,0 437,-6 437,-12 437,-12 437,-71 437,-71 437,-77 431,-83 425,-83\"/>\r\n",
       "<text text-anchor=\"start\" x=\"350\" y=\"-67.8\" font-family=\"Helvetica,sans-Serif\" font-size=\"14.00\">node #9</text>\r\n",
       "<text text-anchor=\"start\" x=\"334.5\" y=\"-52.8\" font-family=\"Helvetica,sans-Serif\" font-size=\"14.00\">entropy = 0.0</text>\r\n",
       "<text text-anchor=\"start\" x=\"325\" y=\"-37.8\" font-family=\"Helvetica,sans-Serif\" font-size=\"14.00\">samples = 7.1%</text>\r\n",
       "<text text-anchor=\"start\" x=\"324\" y=\"-22.8\" font-family=\"Helvetica,sans-Serif\" font-size=\"14.00\">value = [1.0, 0.0]</text>\r\n",
       "<text text-anchor=\"start\" x=\"339\" y=\"-7.8\" font-family=\"Helvetica,sans-Serif\" font-size=\"14.00\">class = Nao</text>\r\n",
       "</g>\r\n",
       "<!-- 8&#45;&gt;9 -->\r\n",
       "<g id=\"edge9\" class=\"edge\">\r\n",
       "<title>8&#45;&gt;9</title>\r\n",
       "<path fill=\"none\" stroke=\"black\" d=\"M399.81,-118.87C397.23,-110.41 394.53,-101.58 391.93,-93.06\"/>\r\n",
       "<polygon fill=\"black\" stroke=\"black\" points=\"395.2,-91.77 388.93,-83.23 388.5,-93.82 395.2,-91.77\"/>\r\n",
       "</g>\r\n",
       "<!-- 10 -->\r\n",
       "<g id=\"node11\" class=\"node\">\r\n",
       "<title>10</title>\r\n",
       "<path fill=\"#399de5\" stroke=\"black\" d=\"M564,-83C564,-83 467,-83 467,-83 461,-83 455,-77 455,-71 455,-71 455,-12 455,-12 455,-6 461,0 467,0 467,0 564,0 564,0 570,0 576,-6 576,-12 576,-12 576,-71 576,-71 576,-77 570,-83 564,-83\"/>\r\n",
       "<text text-anchor=\"start\" x=\"485\" y=\"-67.8\" font-family=\"Helvetica,sans-Serif\" font-size=\"14.00\">node #10</text>\r\n",
       "<text text-anchor=\"start\" x=\"473.5\" y=\"-52.8\" font-family=\"Helvetica,sans-Serif\" font-size=\"14.00\">entropy = 0.0</text>\r\n",
       "<text text-anchor=\"start\" x=\"464\" y=\"-37.8\" font-family=\"Helvetica,sans-Serif\" font-size=\"14.00\">samples = 7.1%</text>\r\n",
       "<text text-anchor=\"start\" x=\"463\" y=\"-22.8\" font-family=\"Helvetica,sans-Serif\" font-size=\"14.00\">value = [0.0, 1.0]</text>\r\n",
       "<text text-anchor=\"start\" x=\"478.5\" y=\"-7.8\" font-family=\"Helvetica,sans-Serif\" font-size=\"14.00\">class = Sim</text>\r\n",
       "</g>\r\n",
       "<!-- 8&#45;&gt;10 -->\r\n",
       "<g id=\"edge10\" class=\"edge\">\r\n",
       "<title>8&#45;&gt;10</title>\r\n",
       "<path fill=\"none\" stroke=\"black\" d=\"M453.55,-118.87C460.93,-109.76 468.66,-100.23 476.06,-91.12\"/>\r\n",
       "<polygon fill=\"black\" stroke=\"black\" points=\"478.88,-93.2 482.46,-83.23 473.44,-88.79 478.88,-93.2\"/>\r\n",
       "</g>\r\n",
       "</g>\r\n",
       "</svg>\r\n"
      ],
      "text/plain": [
       "<graphviz.files.Source at 0x1ca6b51ce50>"
      ]
     },
     "execution_count": 25,
     "metadata": {},
     "output_type": "execute_result"
    }
   ],
   "source": [
    "import pydot\n",
    "import graphviz\n",
    "from sklearn.tree import DecisionTreeClassifier,export_graphviz\n",
    "\n",
    "dot_data = export_graphviz(\n",
    "        arvore,\n",
    "        out_file=None,\n",
    "        feature_names=dados.drop('Joga',axis =1).columns,\n",
    "        class_names=arvore.classes_,\n",
    "        filled=True, rounded=True,\n",
    "        proportion=True,\n",
    "        node_ids=True,\n",
    "        rotate=False,\n",
    "        label='all',\n",
    "        special_characters=True\n",
    "        )\n",
    "graph = graphviz.Source(dot_data)\n",
    "\n",
    "graph"
   ]
  },
  {
   "cell_type": "code",
   "execution_count": 26,
   "metadata": {},
   "outputs": [
    {
     "data": {
      "text/plain": [
       "array(['Nao'], dtype=object)"
      ]
     },
     "execution_count": 26,
     "metadata": {},
     "output_type": "execute_result"
    }
   ],
   "source": [
    "#Com base na árvore obtida, qual será a decisão para um novo dia com as seguintes características: \n",
    "#chuvoso(0), quente(2), alta(0) e forte(0)?\n",
    "\n",
    "#Ensolarado = 1, Nublado = 2 , Chuvoso = 0\n",
    "#Quente = 2, Média = 1, Fria = 0\n",
    "#Alta = 0, Normal = 1\n",
    "#Fraco = 1, Forte = 0\n",
    "\n",
    "previsao = arvore.predict([[0,2,0,0]])\n",
    "\n",
    "previsao\n"
   ]
  },
  {
   "cell_type": "markdown",
   "metadata": {},
   "source": [
    "<h5> Extraindo as regras de decisão "
   ]
  },
  {
   "cell_type": "code",
   "execution_count": 27,
   "metadata": {},
   "outputs": [],
   "source": [
    "from sklearn.tree import _tree\n",
    "def get_rules(tree, feature_names, class_names):\n",
    "    tree_ = tree.tree_\n",
    "    feature_name = [\n",
    "        feature_names[i] if i != _tree.TREE_UNDEFINED else \"undefined!\"\n",
    "        for i in tree_.feature\n",
    "    ]\n",
    "\n",
    "    paths = []\n",
    "    path = []\n",
    "    \n",
    "    def recurse(node, path, paths):\n",
    "        \n",
    "        if tree_.feature[node] != _tree.TREE_UNDEFINED:\n",
    "            name = feature_name[node]\n",
    "            threshold = tree_.threshold[node]\n",
    "            p1, p2 = list(path), list(path)\n",
    "            p1 += [f\"({name} <= {np.round(threshold, 3)})\"]\n",
    "            recurse(tree_.children_left[node], p1, paths)\n",
    "            p2 += [f\"({name} > {np.round(threshold, 3)})\"]\n",
    "            recurse(tree_.children_right[node], p2, paths)\n",
    "        else:\n",
    "            path += [(tree_.value[node], tree_.n_node_samples[node])]\n",
    "            paths += [path]\n",
    "            \n",
    "    recurse(0, path, paths)\n",
    "\n",
    "    # sort by samples count\n",
    "    samples_count = [p[-1][1] for p in paths]\n",
    "    ii = list(np.argsort(samples_count))\n",
    "    paths = [paths[i] for i in reversed(ii)]\n",
    "    \n",
    "    rules = []\n",
    "    for path in paths:\n",
    "        rule = \"if \"\n",
    "        \n",
    "        for p in path[:-1]:\n",
    "            if rule != \"if \":\n",
    "                rule += \" and \"\n",
    "            rule += str(p)\n",
    "        rule += \" then \"\n",
    "        if class_names is None:\n",
    "            rule += \"response: \"+str(np.round(path[-1][0][0][0],3))\n",
    "        else:\n",
    "            classes = path[-1][0][0]\n",
    "            l = np.argmax(classes)\n",
    "            rule += f\"class: {class_names[l]} (proba: {np.round(100.0*classes[l]/np.sum(classes),2)}%)\"\n",
    "        rule += f\" | based on {path[-1][1]:,} samples\"\n",
    "        rules += [rule]\n",
    "        \n",
    "    return rules"
   ]
  },
  {
   "cell_type": "code",
   "execution_count": 28,
   "metadata": {},
   "outputs": [
    {
     "name": "stdout",
     "output_type": "stream",
     "text": [
      "if (Tempo > 1.5) then class: Nao (proba: 100.0%) | based on 4 samples\n",
      "if (Tempo <= 1.5) and (Umidade > 0.5) and (Vento > 0.5) then class: Nao (proba: 100.0%) | based on 3 samples\n",
      "if (Tempo <= 1.5) and (Umidade <= 0.5) and (Tempo > 0.5) then class: Nao (proba: 100.0%) | based on 3 samples\n",
      "if (Tempo <= 1.5) and (Umidade > 0.5) and (Vento <= 0.5) and (Tempo > 0.5) then class: Nao (proba: 100.0%) | based on 1 samples\n",
      "if (Tempo <= 1.5) and (Umidade > 0.5) and (Vento <= 0.5) and (Tempo <= 0.5) then class: Nao (proba: 100.0%) | based on 1 samples\n",
      "if (Tempo <= 1.5) and (Umidade <= 0.5) and (Tempo <= 0.5) and (Vento > 0.5) then class: Nao (proba: 100.0%) | based on 1 samples\n",
      "if (Tempo <= 1.5) and (Umidade <= 0.5) and (Tempo <= 0.5) and (Vento <= 0.5) then class: Nao (proba: 100.0%) | based on 1 samples\n"
     ]
    }
   ],
   "source": [
    "#rules = get_rules(modelo treinado, atributos banco de dados menos a clase, classe)\n",
    "rules = get_rules(arvore, dados.drop('Joga',axis =1).columns, dados['Joga'])\n",
    "for r in rules:\n",
    "    print(r)"
   ]
  },
  {
   "cell_type": "code",
   "execution_count": null,
   "metadata": {},
   "outputs": [],
   "source": []
  }
 ],
 "metadata": {
  "kernelspec": {
   "display_name": "Python 3",
   "language": "python",
   "name": "python3"
  },
  "language_info": {
   "codemirror_mode": {
    "name": "ipython",
    "version": 3
   },
   "file_extension": ".py",
   "mimetype": "text/x-python",
   "name": "python",
   "nbconvert_exporter": "python",
   "pygments_lexer": "ipython3",
   "version": "3.8.5"
  }
 },
 "nbformat": 4,
 "nbformat_minor": 4
}
